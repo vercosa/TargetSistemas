{
  "nbformat": 4,
  "nbformat_minor": 0,
  "metadata": {
    "colab": {
      "provenance": []
    },
    "kernelspec": {
      "name": "python3",
      "display_name": "Python 3"
    },
    "language_info": {
      "name": "python"
    }
  },
  "cells": [
    {
      "cell_type": "markdown",
      "source": [
        "2) Dado a sequência de Fibonacci, onde se inicia por 0 e 1 e o próximo valor sempre será a soma dos 2 valores anteriores (exemplo: 0, 1, 1, 2, 3, 5, 8, 13, 21, 34...), escreva um programa na linguagem que desejar onde, informado um número, ele calcule a sequência de Fibonacci e retorne uma mensagem avisando se o número informado pertence ou não a sequência.\n",
        "\n",
        "IMPORTANTE:\n",
        "Esse número pode ser informado através de qualquer entrada de sua preferência ou pode ser previamente definido no código;"
      ],
      "metadata": {
        "id": "86h5AOSyqgkC"
      }
    },
    {
      "cell_type": "code",
      "execution_count": 1,
      "metadata": {
        "id": "1-nWdSmSqaE9"
      },
      "outputs": [],
      "source": [
        "def pertence_seq_fib(n):\n",
        "  a = 0\n",
        "  b = 1\n",
        "\n",
        "  while b < n:\n",
        "    c = a + b\n",
        "    a = b\n",
        "    b = c\n",
        "  if a == n or b == n:\n",
        "    return True\n",
        "  if b > n:\n",
        "    return False"
      ]
    },
    {
      "cell_type": "code",
      "source": [
        "print(\"Informe um número:\\n\")\n",
        "n = int(input())"
      ],
      "metadata": {
        "colab": {
          "base_uri": "https://localhost:8080/"
        },
        "id": "bfXcFtOfsJQi",
        "outputId": "3be3e0bd-3607-4664-f4ca-0f9eabd1bcd2"
      },
      "execution_count": 6,
      "outputs": [
        {
          "name": "stdout",
          "output_type": "stream",
          "text": [
            "Informe um número:\n",
            "\n",
            "4\n"
          ]
        }
      ]
    },
    {
      "cell_type": "code",
      "source": [
        "resposta = pertence_seq_fib(n)\n",
        "\n",
        "if resposta == True:\n",
        "  print(\"Número {0} pertence a sequência de Fibonacci.\".format(n))\n",
        "else:\n",
        "  print(\"Número {0} não pertence a sequência de Fibonacci.\".format(n))"
      ],
      "metadata": {
        "colab": {
          "base_uri": "https://localhost:8080/"
        },
        "id": "6wZEJiukrxF2",
        "outputId": "6575b32e-d168-42c6-a4c8-f326b8690265"
      },
      "execution_count": 17,
      "outputs": [
        {
          "output_type": "stream",
          "name": "stdout",
          "text": [
            "Número 4 não pertence a sequência de Fibonacci.\n"
          ]
        }
      ]
    },
    {
      "cell_type": "markdown",
      "source": [
        "3) Dado um vetor que guarda o valor de faturamento diário de uma distribuidora, faça um programa, na linguagem que desejar, que calcule e retorne:\n",
        "\n",
        "• O menor valor de faturamento ocorrido em um dia do mês;\n",
        "\n",
        "• O maior valor de faturamento ocorrido em um dia do mês;\n",
        "\n",
        "• Número de dias no mês em que o valor de faturamento diário foi superior à média mensal.\n",
        "\n",
        "IMPORTANTE:\n",
        "\n",
        "a) Usar o json ou xml disponível como fonte dos dados do faturamento mensal;\n",
        "\n",
        "b) Podem existir dias sem faturamento, como nos finais de semana e feriados. Estes dias devem ser ignorados no cálculo da média;"
      ],
      "metadata": {
        "id": "XfJwPIPrsz15"
      }
    },
    {
      "cell_type": "code",
      "source": [
        "import json"
      ],
      "metadata": {
        "id": "1TOktGktuFO5"
      },
      "execution_count": 9,
      "outputs": []
    },
    {
      "cell_type": "code",
      "source": [
        "f = open('/content/dados.json')\n",
        "data = json.load(f)"
      ],
      "metadata": {
        "id": "VTXSJhWds9hh"
      },
      "execution_count": 13,
      "outputs": []
    },
    {
      "cell_type": "code",
      "source": [
        "soma_media = 0.0\n",
        "qtd_dias_faturamento = 0\n",
        "\n",
        "min_valor = data[0]['valor']\n",
        "max_valor = data[0]['valor']\n",
        "\n",
        "for idx, i in enumerate(data):\n",
        "  if data[idx]['valor'] != 0.0:\n",
        "    soma_media = soma_media + data[idx]['valor']\n",
        "    qtd_dias_faturamento = qtd_dias_faturamento + 1\n",
        "\n",
        "  if data[idx]['valor'] < min_valor:\n",
        "    min_valor = data[idx]['valor']\n",
        "  elif data[idx]['valor'] > max_valor:\n",
        "      max_valor = data[idx]['valor']\n",
        "\n",
        "media = soma_media / qtd_dias_faturamento\n",
        "\n",
        "num_dias = 0\n",
        "for idx, i in enumerate(data):\n",
        "  if data[idx]['valor'] > media:\n",
        "    num_dias = num_dias + 1"
      ],
      "metadata": {
        "id": "PWuvAURVy6Qu"
      },
      "execution_count": 43,
      "outputs": []
    },
    {
      "cell_type": "code",
      "source": [
        "print(\"O menor valor de faturamento ocorrido em um dia do mês foi {} reais.\\n\".format(min_valor))\n",
        "\n",
        "print(\"O maior valor de faturamento ocorrido em um dia do mês foi {} reais.\\n\".format(max_valor))\n",
        "\n",
        "print(\"A média mensal foi {} reais.\\n\".format(media))\n",
        "\n",
        "print(\"O número de dias no mês em que o valor de faturamento diário foi superior à média mensal foi {0}.\\n\".format(num_dias))"
      ],
      "metadata": {
        "colab": {
          "base_uri": "https://localhost:8080/"
        },
        "id": "JFgUw0Nj1Ywd",
        "outputId": "f628a170-3f5d-40af-8d50-2719bc604d6f"
      },
      "execution_count": 48,
      "outputs": [
        {
          "output_type": "stream",
          "name": "stdout",
          "text": [
            "O menor valor de faturamento ocorrido em um dia do mês foi 0.0 reais.\n",
            "\n",
            "O maior valor de faturamento ocorrido em um dia do mês foi 48924.2448 reais.\n",
            "\n",
            "A média mensal foi 20865.370166666664 reais.\n",
            "\n",
            "O número de dias no mês em que o valor de faturamento diário foi superior à média mensal foi 10.\n",
            "\n"
          ]
        }
      ]
    },
    {
      "cell_type": "markdown",
      "source": [
        "4) Dado o valor de faturamento mensal de uma distribuidora, detalhado por estado:\n",
        "\n",
        "SP – R$67.836,43\n",
        "\n",
        "RJ – R$36.678,66\n",
        "\n",
        "MG – R$29.229,88\n",
        "\n",
        "ES – R$27.165,48\n",
        "\n",
        "Outros – R$19.849,53\n",
        "\n",
        "Escreva um programa na linguagem que desejar onde calcule o percentual de representação que cada estado teve dentro do valor total mensal da distribuidora."
      ],
      "metadata": {
        "id": "pgHl7pZz2YhS"
      }
    },
    {
      "cell_type": "code",
      "source": [
        "estados = ['SP', 'RJ', 'MG', 'ES', 'Outros']\n",
        "faturamento = [67836.43, 36678.66, 29229.88, 27165.48, 19849.53]"
      ],
      "metadata": {
        "id": "EXhTnaUn2e4j"
      },
      "execution_count": 64,
      "outputs": []
    },
    {
      "cell_type": "code",
      "source": [
        "total = 0.0\n",
        "for i in faturamento:\n",
        "  total = total + i\n",
        "\n",
        "percentual = [faturamento[0]/total, faturamento[1]/total,\n",
        "              faturamento[2]/total, faturamento[3]/total, faturamento[4]/total]"
      ],
      "metadata": {
        "id": "NbcX5ClZ3jVf"
      },
      "execution_count": 78,
      "outputs": []
    },
    {
      "cell_type": "code",
      "source": [
        "import plotly \n",
        "import plotly.express as px\n",
        "\n",
        "fig = px.pie(names = estados, values = percentual, width=650, height = 400, \n",
        "             title = \"Representação que cada estado teve dentro do valor total mensal\")\n",
        "fig.show()"
      ],
      "metadata": {
        "colab": {
          "base_uri": "https://localhost:8080/",
          "height": 417
        },
        "id": "X9KPxTSo6GfB",
        "outputId": "ce7b50c2-0364-4b16-9b13-9f7834f4d81a"
      },
      "execution_count": 79,
      "outputs": [
        {
          "output_type": "display_data",
          "data": {
            "text/html": [
              "<html>\n",
              "<head><meta charset=\"utf-8\" /></head>\n",
              "<body>\n",
              "    <div>            <script src=\"https://cdnjs.cloudflare.com/ajax/libs/mathjax/2.7.5/MathJax.js?config=TeX-AMS-MML_SVG\"></script><script type=\"text/javascript\">if (window.MathJax && window.MathJax.Hub && window.MathJax.Hub.Config) {window.MathJax.Hub.Config({SVG: {font: \"STIX-Web\"}});}</script>                <script type=\"text/javascript\">window.PlotlyConfig = {MathJaxConfig: 'local'};</script>\n",
              "        <script src=\"https://cdn.plot.ly/plotly-2.18.2.min.js\"></script>                <div id=\"17f32d9f-01a2-4686-9641-7739b52c5b10\" class=\"plotly-graph-div\" style=\"height:400px; width:650px;\"></div>            <script type=\"text/javascript\">                                    window.PLOTLYENV=window.PLOTLYENV || {};                                    if (document.getElementById(\"17f32d9f-01a2-4686-9641-7739b52c5b10\")) {                    Plotly.newPlot(                        \"17f32d9f-01a2-4686-9641-7739b52c5b10\",                        [{\"domain\":{\"x\":[0.0,1.0],\"y\":[0.0,1.0]},\"hovertemplate\":\"label=%{label}<br>value=%{value}<extra></extra>\",\"labels\":[\"SP\",\"RJ\",\"MG\",\"ES\",\"Outros\"],\"legendgroup\":\"\",\"name\":\"\",\"showlegend\":true,\"values\":[0.3752845624346716,0.20291360952794973,0.16170548370275323,0.15028481414968067,0.10981153018494469],\"type\":\"pie\"}],                        {\"template\":{\"data\":{\"histogram2dcontour\":[{\"type\":\"histogram2dcontour\",\"colorbar\":{\"outlinewidth\":0,\"ticks\":\"\"},\"colorscale\":[[0.0,\"#0d0887\"],[0.1111111111111111,\"#46039f\"],[0.2222222222222222,\"#7201a8\"],[0.3333333333333333,\"#9c179e\"],[0.4444444444444444,\"#bd3786\"],[0.5555555555555556,\"#d8576b\"],[0.6666666666666666,\"#ed7953\"],[0.7777777777777778,\"#fb9f3a\"],[0.8888888888888888,\"#fdca26\"],[1.0,\"#f0f921\"]]}],\"choropleth\":[{\"type\":\"choropleth\",\"colorbar\":{\"outlinewidth\":0,\"ticks\":\"\"}}],\"histogram2d\":[{\"type\":\"histogram2d\",\"colorbar\":{\"outlinewidth\":0,\"ticks\":\"\"},\"colorscale\":[[0.0,\"#0d0887\"],[0.1111111111111111,\"#46039f\"],[0.2222222222222222,\"#7201a8\"],[0.3333333333333333,\"#9c179e\"],[0.4444444444444444,\"#bd3786\"],[0.5555555555555556,\"#d8576b\"],[0.6666666666666666,\"#ed7953\"],[0.7777777777777778,\"#fb9f3a\"],[0.8888888888888888,\"#fdca26\"],[1.0,\"#f0f921\"]]}],\"heatmap\":[{\"type\":\"heatmap\",\"colorbar\":{\"outlinewidth\":0,\"ticks\":\"\"},\"colorscale\":[[0.0,\"#0d0887\"],[0.1111111111111111,\"#46039f\"],[0.2222222222222222,\"#7201a8\"],[0.3333333333333333,\"#9c179e\"],[0.4444444444444444,\"#bd3786\"],[0.5555555555555556,\"#d8576b\"],[0.6666666666666666,\"#ed7953\"],[0.7777777777777778,\"#fb9f3a\"],[0.8888888888888888,\"#fdca26\"],[1.0,\"#f0f921\"]]}],\"heatmapgl\":[{\"type\":\"heatmapgl\",\"colorbar\":{\"outlinewidth\":0,\"ticks\":\"\"},\"colorscale\":[[0.0,\"#0d0887\"],[0.1111111111111111,\"#46039f\"],[0.2222222222222222,\"#7201a8\"],[0.3333333333333333,\"#9c179e\"],[0.4444444444444444,\"#bd3786\"],[0.5555555555555556,\"#d8576b\"],[0.6666666666666666,\"#ed7953\"],[0.7777777777777778,\"#fb9f3a\"],[0.8888888888888888,\"#fdca26\"],[1.0,\"#f0f921\"]]}],\"contourcarpet\":[{\"type\":\"contourcarpet\",\"colorbar\":{\"outlinewidth\":0,\"ticks\":\"\"}}],\"contour\":[{\"type\":\"contour\",\"colorbar\":{\"outlinewidth\":0,\"ticks\":\"\"},\"colorscale\":[[0.0,\"#0d0887\"],[0.1111111111111111,\"#46039f\"],[0.2222222222222222,\"#7201a8\"],[0.3333333333333333,\"#9c179e\"],[0.4444444444444444,\"#bd3786\"],[0.5555555555555556,\"#d8576b\"],[0.6666666666666666,\"#ed7953\"],[0.7777777777777778,\"#fb9f3a\"],[0.8888888888888888,\"#fdca26\"],[1.0,\"#f0f921\"]]}],\"surface\":[{\"type\":\"surface\",\"colorbar\":{\"outlinewidth\":0,\"ticks\":\"\"},\"colorscale\":[[0.0,\"#0d0887\"],[0.1111111111111111,\"#46039f\"],[0.2222222222222222,\"#7201a8\"],[0.3333333333333333,\"#9c179e\"],[0.4444444444444444,\"#bd3786\"],[0.5555555555555556,\"#d8576b\"],[0.6666666666666666,\"#ed7953\"],[0.7777777777777778,\"#fb9f3a\"],[0.8888888888888888,\"#fdca26\"],[1.0,\"#f0f921\"]]}],\"mesh3d\":[{\"type\":\"mesh3d\",\"colorbar\":{\"outlinewidth\":0,\"ticks\":\"\"}}],\"scatter\":[{\"fillpattern\":{\"fillmode\":\"overlay\",\"size\":10,\"solidity\":0.2},\"type\":\"scatter\"}],\"parcoords\":[{\"type\":\"parcoords\",\"line\":{\"colorbar\":{\"outlinewidth\":0,\"ticks\":\"\"}}}],\"scatterpolargl\":[{\"type\":\"scatterpolargl\",\"marker\":{\"colorbar\":{\"outlinewidth\":0,\"ticks\":\"\"}}}],\"bar\":[{\"error_x\":{\"color\":\"#2a3f5f\"},\"error_y\":{\"color\":\"#2a3f5f\"},\"marker\":{\"line\":{\"color\":\"#E5ECF6\",\"width\":0.5},\"pattern\":{\"fillmode\":\"overlay\",\"size\":10,\"solidity\":0.2}},\"type\":\"bar\"}],\"scattergeo\":[{\"type\":\"scattergeo\",\"marker\":{\"colorbar\":{\"outlinewidth\":0,\"ticks\":\"\"}}}],\"scatterpolar\":[{\"type\":\"scatterpolar\",\"marker\":{\"colorbar\":{\"outlinewidth\":0,\"ticks\":\"\"}}}],\"histogram\":[{\"marker\":{\"pattern\":{\"fillmode\":\"overlay\",\"size\":10,\"solidity\":0.2}},\"type\":\"histogram\"}],\"scattergl\":[{\"type\":\"scattergl\",\"marker\":{\"colorbar\":{\"outlinewidth\":0,\"ticks\":\"\"}}}],\"scatter3d\":[{\"type\":\"scatter3d\",\"line\":{\"colorbar\":{\"outlinewidth\":0,\"ticks\":\"\"}},\"marker\":{\"colorbar\":{\"outlinewidth\":0,\"ticks\":\"\"}}}],\"scattermapbox\":[{\"type\":\"scattermapbox\",\"marker\":{\"colorbar\":{\"outlinewidth\":0,\"ticks\":\"\"}}}],\"scatterternary\":[{\"type\":\"scatterternary\",\"marker\":{\"colorbar\":{\"outlinewidth\":0,\"ticks\":\"\"}}}],\"scattercarpet\":[{\"type\":\"scattercarpet\",\"marker\":{\"colorbar\":{\"outlinewidth\":0,\"ticks\":\"\"}}}],\"carpet\":[{\"aaxis\":{\"endlinecolor\":\"#2a3f5f\",\"gridcolor\":\"white\",\"linecolor\":\"white\",\"minorgridcolor\":\"white\",\"startlinecolor\":\"#2a3f5f\"},\"baxis\":{\"endlinecolor\":\"#2a3f5f\",\"gridcolor\":\"white\",\"linecolor\":\"white\",\"minorgridcolor\":\"white\",\"startlinecolor\":\"#2a3f5f\"},\"type\":\"carpet\"}],\"table\":[{\"cells\":{\"fill\":{\"color\":\"#EBF0F8\"},\"line\":{\"color\":\"white\"}},\"header\":{\"fill\":{\"color\":\"#C8D4E3\"},\"line\":{\"color\":\"white\"}},\"type\":\"table\"}],\"barpolar\":[{\"marker\":{\"line\":{\"color\":\"#E5ECF6\",\"width\":0.5},\"pattern\":{\"fillmode\":\"overlay\",\"size\":10,\"solidity\":0.2}},\"type\":\"barpolar\"}],\"pie\":[{\"automargin\":true,\"type\":\"pie\"}]},\"layout\":{\"autotypenumbers\":\"strict\",\"colorway\":[\"#636efa\",\"#EF553B\",\"#00cc96\",\"#ab63fa\",\"#FFA15A\",\"#19d3f3\",\"#FF6692\",\"#B6E880\",\"#FF97FF\",\"#FECB52\"],\"font\":{\"color\":\"#2a3f5f\"},\"hovermode\":\"closest\",\"hoverlabel\":{\"align\":\"left\"},\"paper_bgcolor\":\"white\",\"plot_bgcolor\":\"#E5ECF6\",\"polar\":{\"bgcolor\":\"#E5ECF6\",\"angularaxis\":{\"gridcolor\":\"white\",\"linecolor\":\"white\",\"ticks\":\"\"},\"radialaxis\":{\"gridcolor\":\"white\",\"linecolor\":\"white\",\"ticks\":\"\"}},\"ternary\":{\"bgcolor\":\"#E5ECF6\",\"aaxis\":{\"gridcolor\":\"white\",\"linecolor\":\"white\",\"ticks\":\"\"},\"baxis\":{\"gridcolor\":\"white\",\"linecolor\":\"white\",\"ticks\":\"\"},\"caxis\":{\"gridcolor\":\"white\",\"linecolor\":\"white\",\"ticks\":\"\"}},\"coloraxis\":{\"colorbar\":{\"outlinewidth\":0,\"ticks\":\"\"}},\"colorscale\":{\"sequential\":[[0.0,\"#0d0887\"],[0.1111111111111111,\"#46039f\"],[0.2222222222222222,\"#7201a8\"],[0.3333333333333333,\"#9c179e\"],[0.4444444444444444,\"#bd3786\"],[0.5555555555555556,\"#d8576b\"],[0.6666666666666666,\"#ed7953\"],[0.7777777777777778,\"#fb9f3a\"],[0.8888888888888888,\"#fdca26\"],[1.0,\"#f0f921\"]],\"sequentialminus\":[[0.0,\"#0d0887\"],[0.1111111111111111,\"#46039f\"],[0.2222222222222222,\"#7201a8\"],[0.3333333333333333,\"#9c179e\"],[0.4444444444444444,\"#bd3786\"],[0.5555555555555556,\"#d8576b\"],[0.6666666666666666,\"#ed7953\"],[0.7777777777777778,\"#fb9f3a\"],[0.8888888888888888,\"#fdca26\"],[1.0,\"#f0f921\"]],\"diverging\":[[0,\"#8e0152\"],[0.1,\"#c51b7d\"],[0.2,\"#de77ae\"],[0.3,\"#f1b6da\"],[0.4,\"#fde0ef\"],[0.5,\"#f7f7f7\"],[0.6,\"#e6f5d0\"],[0.7,\"#b8e186\"],[0.8,\"#7fbc41\"],[0.9,\"#4d9221\"],[1,\"#276419\"]]},\"xaxis\":{\"gridcolor\":\"white\",\"linecolor\":\"white\",\"ticks\":\"\",\"title\":{\"standoff\":15},\"zerolinecolor\":\"white\",\"automargin\":true,\"zerolinewidth\":2},\"yaxis\":{\"gridcolor\":\"white\",\"linecolor\":\"white\",\"ticks\":\"\",\"title\":{\"standoff\":15},\"zerolinecolor\":\"white\",\"automargin\":true,\"zerolinewidth\":2},\"scene\":{\"xaxis\":{\"backgroundcolor\":\"#E5ECF6\",\"gridcolor\":\"white\",\"linecolor\":\"white\",\"showbackground\":true,\"ticks\":\"\",\"zerolinecolor\":\"white\",\"gridwidth\":2},\"yaxis\":{\"backgroundcolor\":\"#E5ECF6\",\"gridcolor\":\"white\",\"linecolor\":\"white\",\"showbackground\":true,\"ticks\":\"\",\"zerolinecolor\":\"white\",\"gridwidth\":2},\"zaxis\":{\"backgroundcolor\":\"#E5ECF6\",\"gridcolor\":\"white\",\"linecolor\":\"white\",\"showbackground\":true,\"ticks\":\"\",\"zerolinecolor\":\"white\",\"gridwidth\":2}},\"shapedefaults\":{\"line\":{\"color\":\"#2a3f5f\"}},\"annotationdefaults\":{\"arrowcolor\":\"#2a3f5f\",\"arrowhead\":0,\"arrowwidth\":1},\"geo\":{\"bgcolor\":\"white\",\"landcolor\":\"#E5ECF6\",\"subunitcolor\":\"white\",\"showland\":true,\"showlakes\":true,\"lakecolor\":\"white\"},\"title\":{\"x\":0.05},\"mapbox\":{\"style\":\"light\"}}},\"legend\":{\"tracegroupgap\":0},\"title\":{\"text\":\"Representa\\u00e7\\u00e3o que cada estado teve dentro do valor total mensal\"},\"height\":400,\"width\":650},                        {\"responsive\": true}                    ).then(function(){\n",
              "                            \n",
              "var gd = document.getElementById('17f32d9f-01a2-4686-9641-7739b52c5b10');\n",
              "var x = new MutationObserver(function (mutations, observer) {{\n",
              "        var display = window.getComputedStyle(gd).display;\n",
              "        if (!display || display === 'none') {{\n",
              "            console.log([gd, 'removed!']);\n",
              "            Plotly.purge(gd);\n",
              "            observer.disconnect();\n",
              "        }}\n",
              "}});\n",
              "\n",
              "// Listen for the removal of the full notebook cells\n",
              "var notebookContainer = gd.closest('#notebook-container');\n",
              "if (notebookContainer) {{\n",
              "    x.observe(notebookContainer, {childList: true});\n",
              "}}\n",
              "\n",
              "// Listen for the clearing of the current output cell\n",
              "var outputEl = gd.closest('.output');\n",
              "if (outputEl) {{\n",
              "    x.observe(outputEl, {childList: true});\n",
              "}}\n",
              "\n",
              "                        })                };                            </script>        </div>\n",
              "</body>\n",
              "</html>"
            ]
          },
          "metadata": {}
        }
      ]
    },
    {
      "cell_type": "markdown",
      "source": [
        "![newplot.png](data:image/png;base64,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)"
      ],
      "metadata": {
        "id": "t0B1jTbgCv2W"
      }
    },
    {
      "cell_type": "markdown",
      "source": [
        "5) Escreva um programa que inverta os caracteres de um string.\n",
        "\n",
        "IMPORTANTE:\n",
        "\n",
        "a) Essa string pode ser informada através de qualquer entrada de sua preferência ou pode ser previamente definida no código;\n",
        "\n",
        "b) Evite usar funções prontas, como, por exemplo, reverse;"
      ],
      "metadata": {
        "id": "IwN-IV3e82WN"
      }
    },
    {
      "cell_type": "code",
      "source": [
        "def inverter_string(s):\n",
        "  s_invert = ''\n",
        "  tam = len(s) - 1\n",
        "\n",
        "  while tam >= 0:\n",
        "    s_invert = s_invert + s[tam]\n",
        "    tam = tam - 1\n",
        "\n",
        "  return s_invert"
      ],
      "metadata": {
        "id": "U1OfH0Ti85fU"
      },
      "execution_count": 83,
      "outputs": []
    },
    {
      "cell_type": "code",
      "source": [
        "print(\"Escreva uma string:\\n\")\n",
        "string = input()"
      ],
      "metadata": {
        "colab": {
          "base_uri": "https://localhost:8080/"
        },
        "id": "caw4UcHz97On",
        "outputId": "c6b89494-9f96-4eb1-90d9-e6e059359039"
      },
      "execution_count": 86,
      "outputs": [
        {
          "name": "stdout",
          "output_type": "stream",
          "text": [
            "Escreva uma string:\n",
            "\n",
            "Target Sistemas\n"
          ]
        }
      ]
    },
    {
      "cell_type": "code",
      "source": [
        "string_invertida = inverter_string(string)\n",
        "\n",
        "print(\"A string invertida é {0}.\".format(string_invertida))"
      ],
      "metadata": {
        "colab": {
          "base_uri": "https://localhost:8080/"
        },
        "id": "OU_7basq-QWi",
        "outputId": "d1199513-4b49-4ebc-b4e1-7763ec15ddb8"
      },
      "execution_count": 87,
      "outputs": [
        {
          "output_type": "stream",
          "name": "stdout",
          "text": [
            "A string invertida é sametsiS tegraT.\n"
          ]
        }
      ]
    }
  ]
}